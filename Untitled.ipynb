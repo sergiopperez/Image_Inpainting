{
 "cells": [
  {
   "cell_type": "code",
   "execution_count": 5,
   "metadata": {},
   "outputs": [],
   "source": [
    "import matplotlib.pyplot as plt\n",
    "import numpy as np\n",
    "import tensorflow as tf\n",
    "\n",
    "from functions import plots\n",
    "from functions import finite_volumes as fv"
   ]
  },
  {
   "cell_type": "markdown",
   "metadata": {},
   "source": [
    "## Example from MNIST"
   ]
  },
  {
   "cell_type": "markdown",
   "metadata": {},
   "source": [
    "Load image from test dataset of MNIST"
   ]
  },
  {
   "cell_type": "code",
   "execution_count": 6,
   "metadata": {},
   "outputs": [
    {
     "data": {
      "image/png": "[encoded data removed]",
      "text/plain": [
       "<Figure size 432x288 with 1 Axes>"
      ]
     },
     "metadata": {
      "needs_background": "light"
     },
     "output_type": "display_data"
    }
   ],
   "source": [
    "import mnist\n",
    "test_images = mnist.test_images()\n",
    "test_images = test_images.reshape((-1,784))\n",
    "test_images = (test_images / 255) *2-1\n",
    "example = test_images[0,:]\n",
    "\n",
    "plots.plot_image(example)"
   ]
  },
  {
   "cell_type": "markdown",
   "metadata": {},
   "source": [
    "Add damage to it"
   ]
  },
  {
   "cell_type": "code",
   "execution_count": 7,
   "metadata": {},
   "outputs": [
    {
     "data": {
      "image/png": "[encoded data removed]",
      "text/plain": [
       "<Figure size 432x288 with 1 Axes>"
      ]
     },
     "metadata": {
      "needs_background": "light"
     },
     "output_type": "display_data"
    }
   ],
   "source": [
    "intensity = 0.3\n",
    "\n",
    "damage = np.random.choice(np.arange(example.size), replace=False, size=int(example.size * intensity))\n",
    "example[damage] = 0\n",
    "plots.plot_image(example)"
   ]
  },
  {
   "cell_type": "code",
   "execution_count": 4,
   "metadata": {},
   "outputs": [
    {
     "name": "stdout",
     "output_type": "stream",
     "text": [
      "--------------------\n",
      "Time:  0.0\n",
      "['L1 norm of the difference between the new and old state: ', 0.0]\n",
      "--------------------\n",
      "Time:  0.1\n",
      "['L1 norm of the difference between the new and old state: ', 0.0]\n",
      "--------------------\n",
      "Time:  0.2\n",
      "['L1 norm of the difference between the new and old state: ', 0.0]\n",
      "--------------------\n",
      "Time:  0.30000000000000004\n",
      "['L1 norm of the difference between the new and old state: ', 0.0]\n",
      "--------------------\n",
      "Time:  0.4\n",
      "['L1 norm of the difference between the new and old state: ', 0.0]\n",
      "--------------------\n",
      "Time:  0.5\n",
      "['L1 norm of the difference between the new and old state: ', 0.0]\n",
      "--------------------\n",
      "Time:  0.6\n",
      "['L1 norm of the difference between the new and old state: ', 0.0]\n",
      "--------------------\n",
      "Time:  0.7\n",
      "['L1 norm of the difference between the new and old state: ', 0.0]\n",
      "--------------------\n",
      "Time:  0.7999999999999999\n",
      "['L1 norm of the difference between the new and old state: ', 0.0]\n",
      "--------------------\n",
      "Time:  0.8999999999999999\n",
      "['L1 norm of the difference between the new and old state: ', 0.0]\n",
      "--------------------\n",
      "Time:  0.9999999999999999\n",
      "['L1 norm of the difference between the new and old state: ', 0.0]\n",
      "--------------------\n",
      "Time:  1.0999999999999999\n",
      "['L1 norm of the difference between the new and old state: ', 0.0]\n",
      "--------------------\n",
      "Time:  1.2\n",
      "['L1 norm of the difference between the new and old state: ', 0.0]\n",
      "--------------------\n",
      "Time:  1.3\n",
      "['L1 norm of the difference between the new and old state: ', 0.0]\n",
      "--------------------\n",
      "Time:  1.4000000000000001\n",
      "['L1 norm of the difference between the new and old state: ', 0.0]\n",
      "--------------------\n",
      "Time:  1.5000000000000002\n",
      "['L1 norm of the difference between the new and old state: ', 0.0]\n",
      "--------------------\n",
      "Time:  1.6000000000000003\n",
      "['L1 norm of the difference between the new and old state: ', 0.0]\n",
      "--------------------\n",
      "Time:  1.7000000000000004\n",
      "['L1 norm of the difference between the new and old state: ', 0.0]\n",
      "--------------------\n",
      "Time:  1.8000000000000005\n",
      "['L1 norm of the difference between the new and old state: ', 0.0]\n",
      "--------------------\n",
      "Time:  1.9000000000000006\n",
      "['L1 norm of the difference between the new and old state: ', 0.0]\n"
     ]
    },
    {
     "ename": "KeyboardInterrupt",
     "evalue": "",
     "output_type": "error",
     "traceback": [
      "\u001b[0;31m---------------------------------------------------------------------------\u001b[0m",
      "\u001b[0;31mKeyboardInterrupt\u001b[0m                         Traceback (most recent call last)",
      "\u001b[0;32m<ipython-input-4-f46056bc570a>\u001b[0m in \u001b[0;36m<module>\u001b[0;34m\u001b[0m\n\u001b[0;32m----> 1\u001b[0;31m \u001b[0mrestored_example\u001b[0m \u001b[0;34m=\u001b[0m \u001b[0mfv\u001b[0m\u001b[0;34m.\u001b[0m\u001b[0mtemporal_loop\u001b[0m\u001b[0;34m(\u001b[0m\u001b[0mexample\u001b[0m\u001b[0;34m,\u001b[0m \u001b[0mdamage\u001b[0m\u001b[0;34m)\u001b[0m\u001b[0;34m\u001b[0m\u001b[0;34m\u001b[0m\u001b[0m\n\u001b[0m",
      "\u001b[0;32m~/github/Image_Inpainting/functions/finite_volumes.py\u001b[0m in \u001b[0;36mtemporal_loop\u001b[0;34m(initial_phi, damage)\u001b[0m\n\u001b[1;32m     23\u001b[0m         \u001b[0;31m# Euler implicit\u001b[0m\u001b[0;34m\u001b[0m\u001b[0;34m\u001b[0m\u001b[0;34m\u001b[0m\u001b[0m\n\u001b[1;32m     24\u001b[0m \u001b[0;34m\u001b[0m\u001b[0m\n\u001b[0;32m---> 25\u001b[0;31m         \u001b[0mphi\u001b[0m\u001b[0;34m[\u001b[0m\u001b[0;34m:\u001b[0m\u001b[0;34m,\u001b[0m\u001b[0mti\u001b[0m\u001b[0;34m+\u001b[0m\u001b[0;36m1\u001b[0m\u001b[0;34m]\u001b[0m\u001b[0;34m,\u001b[0m\u001b[0minfodict\u001b[0m\u001b[0;34m,\u001b[0m \u001b[0mier\u001b[0m\u001b[0;34m,\u001b[0m \u001b[0mmesg\u001b[0m \u001b[0;34m=\u001b[0m \u001b[0moptimize\u001b[0m\u001b[0;34m.\u001b[0m\u001b[0mfsolve\u001b[0m\u001b[0;34m(\u001b[0m\u001b[0;32mlambda\u001b[0m \u001b[0mphi_nplus1\u001b[0m\u001b[0;34m:\u001b[0m \u001b[0mEuler_implicit\u001b[0m\u001b[0;34m(\u001b[0m\u001b[0mphi\u001b[0m\u001b[0;34m[\u001b[0m\u001b[0;34m:\u001b[0m\u001b[0;34m,\u001b[0m\u001b[0mti\u001b[0m\u001b[0;34m]\u001b[0m\u001b[0;34m,\u001b[0m\u001b[0mphi_nplus1\u001b[0m\u001b[0;34m,\u001b[0m\u001b[0mphi\u001b[0m\u001b[0;34m[\u001b[0m\u001b[0;34m:\u001b[0m\u001b[0;34m,\u001b[0m\u001b[0;36m0\u001b[0m\u001b[0;34m]\u001b[0m\u001b[0;34m,\u001b[0m\u001b[0mn\u001b[0m\u001b[0;34m,\u001b[0m\u001b[0mdx\u001b[0m\u001b[0;34m,\u001b[0m\u001b[0mdt\u001b[0m\u001b[0;34m,\u001b[0m\u001b[0mepsilon\u001b[0m\u001b[0;34m,\u001b[0m\u001b[0mlam\u001b[0m\u001b[0;34m,\u001b[0m\u001b[0mntimes\u001b[0m\u001b[0;34m,\u001b[0m\u001b[0mpot\u001b[0m\u001b[0;34m,\u001b[0m\u001b[0mtheta\u001b[0m\u001b[0;34m,\u001b[0m\u001b[0mthetac\u001b[0m\u001b[0;34m,\u001b[0m\u001b[0mchoicemob\u001b[0m\u001b[0;34m)\u001b[0m\u001b[0;34m,\u001b[0m \u001b[0mphi\u001b[0m\u001b[0;34m[\u001b[0m\u001b[0;34m:\u001b[0m\u001b[0;34m,\u001b[0m\u001b[0mti\u001b[0m\u001b[0;34m]\u001b[0m\u001b[0;34m,\u001b[0m \u001b[0mfull_output\u001b[0m \u001b[0;34m=\u001b[0m \u001b[0;32mTrue\u001b[0m\u001b[0;34m)\u001b[0m\u001b[0;34m\u001b[0m\u001b[0;34m\u001b[0m\u001b[0m\n\u001b[0m\u001b[1;32m     26\u001b[0m \u001b[0;34m\u001b[0m\u001b[0m\n\u001b[1;32m     27\u001b[0m \u001b[0;34m\u001b[0m\u001b[0m\n",
      "\u001b[0;32m~/anaconda3/lib/python3.7/site-packages/scipy/optimize/minpack.py\u001b[0m in \u001b[0;36mfsolve\u001b[0;34m(func, x0, args, fprime, full_output, col_deriv, xtol, maxfev, band, epsfcn, factor, diag)\u001b[0m\n\u001b[1;32m    145\u001b[0m                'diag': diag}\n\u001b[1;32m    146\u001b[0m \u001b[0;34m\u001b[0m\u001b[0m\n\u001b[0;32m--> 147\u001b[0;31m     \u001b[0mres\u001b[0m \u001b[0;34m=\u001b[0m \u001b[0m_root_hybr\u001b[0m\u001b[0;34m(\u001b[0m\u001b[0mfunc\u001b[0m\u001b[0;34m,\u001b[0m \u001b[0mx0\u001b[0m\u001b[0;34m,\u001b[0m \u001b[0margs\u001b[0m\u001b[0;34m,\u001b[0m \u001b[0mjac\u001b[0m\u001b[0;34m=\u001b[0m\u001b[0mfprime\u001b[0m\u001b[0;34m,\u001b[0m \u001b[0;34m**\u001b[0m\u001b[0moptions\u001b[0m\u001b[0;34m)\u001b[0m\u001b[0;34m\u001b[0m\u001b[0;34m\u001b[0m\u001b[0m\n\u001b[0m\u001b[1;32m    148\u001b[0m     \u001b[0;32mif\u001b[0m \u001b[0mfull_output\u001b[0m\u001b[0;34m:\u001b[0m\u001b[0;34m\u001b[0m\u001b[0;34m\u001b[0m\u001b[0m\n\u001b[1;32m    149\u001b[0m         \u001b[0mx\u001b[0m \u001b[0;34m=\u001b[0m \u001b[0mres\u001b[0m\u001b[0;34m[\u001b[0m\u001b[0;34m'x'\u001b[0m\u001b[0;34m]\u001b[0m\u001b[0;34m\u001b[0m\u001b[0;34m\u001b[0m\u001b[0m\n",
      "\u001b[0;32m~/anaconda3/lib/python3.7/site-packages/scipy/optimize/minpack.py\u001b[0m in \u001b[0;36m_root_hybr\u001b[0;34m(func, x0, args, jac, col_deriv, xtol, maxfev, band, eps, factor, diag, **unknown_options)\u001b[0m\n\u001b[1;32m    223\u001b[0m             \u001b[0mmaxfev\u001b[0m \u001b[0;34m=\u001b[0m \u001b[0;36m200\u001b[0m \u001b[0;34m*\u001b[0m \u001b[0;34m(\u001b[0m\u001b[0mn\u001b[0m \u001b[0;34m+\u001b[0m \u001b[0;36m1\u001b[0m\u001b[0;34m)\u001b[0m\u001b[0;34m\u001b[0m\u001b[0;34m\u001b[0m\u001b[0m\n\u001b[1;32m    224\u001b[0m         retval = _minpack._hybrd(func, x0, args, 1, xtol, maxfev,\n\u001b[0;32m--> 225\u001b[0;31m                                  ml, mu, epsfcn, factor, diag)\n\u001b[0m\u001b[1;32m    226\u001b[0m     \u001b[0;32melse\u001b[0m\u001b[0;34m:\u001b[0m\u001b[0;34m\u001b[0m\u001b[0;34m\u001b[0m\u001b[0m\n\u001b[1;32m    227\u001b[0m         \u001b[0m_check_func\u001b[0m\u001b[0;34m(\u001b[0m\u001b[0;34m'fsolve'\u001b[0m\u001b[0;34m,\u001b[0m \u001b[0;34m'fprime'\u001b[0m\u001b[0;34m,\u001b[0m \u001b[0mDfun\u001b[0m\u001b[0;34m,\u001b[0m \u001b[0mx0\u001b[0m\u001b[0;34m,\u001b[0m \u001b[0margs\u001b[0m\u001b[0;34m,\u001b[0m \u001b[0mn\u001b[0m\u001b[0;34m,\u001b[0m \u001b[0;34m(\u001b[0m\u001b[0mn\u001b[0m\u001b[0;34m,\u001b[0m \u001b[0mn\u001b[0m\u001b[0;34m)\u001b[0m\u001b[0;34m)\u001b[0m\u001b[0;34m\u001b[0m\u001b[0;34m\u001b[0m\u001b[0m\n",
      "\u001b[0;32m~/github/Image_Inpainting/functions/finite_volumes.py\u001b[0m in \u001b[0;36m<lambda>\u001b[0;34m(phi_nplus1)\u001b[0m\n\u001b[1;32m     23\u001b[0m         \u001b[0;31m# Euler implicit\u001b[0m\u001b[0;34m\u001b[0m\u001b[0;34m\u001b[0m\u001b[0;34m\u001b[0m\u001b[0m\n\u001b[1;32m     24\u001b[0m \u001b[0;34m\u001b[0m\u001b[0m\n\u001b[0;32m---> 25\u001b[0;31m         \u001b[0mphi\u001b[0m\u001b[0;34m[\u001b[0m\u001b[0;34m:\u001b[0m\u001b[0;34m,\u001b[0m\u001b[0mti\u001b[0m\u001b[0;34m+\u001b[0m\u001b[0;36m1\u001b[0m\u001b[0;34m]\u001b[0m\u001b[0;34m,\u001b[0m\u001b[0minfodict\u001b[0m\u001b[0;34m,\u001b[0m \u001b[0mier\u001b[0m\u001b[0;34m,\u001b[0m \u001b[0mmesg\u001b[0m \u001b[0;34m=\u001b[0m \u001b[0moptimize\u001b[0m\u001b[0;34m.\u001b[0m\u001b[0mfsolve\u001b[0m\u001b[0;34m(\u001b[0m\u001b[0;32mlambda\u001b[0m \u001b[0mphi_nplus1\u001b[0m\u001b[0;34m:\u001b[0m \u001b[0mEuler_implicit\u001b[0m\u001b[0;34m(\u001b[0m\u001b[0mphi\u001b[0m\u001b[0;34m[\u001b[0m\u001b[0;34m:\u001b[0m\u001b[0;34m,\u001b[0m\u001b[0mti\u001b[0m\u001b[0;34m]\u001b[0m\u001b[0;34m,\u001b[0m\u001b[0mphi_nplus1\u001b[0m\u001b[0;34m,\u001b[0m\u001b[0mphi\u001b[0m\u001b[0;34m[\u001b[0m\u001b[0;34m:\u001b[0m\u001b[0;34m,\u001b[0m\u001b[0;36m0\u001b[0m\u001b[0;34m]\u001b[0m\u001b[0;34m,\u001b[0m\u001b[0mn\u001b[0m\u001b[0;34m,\u001b[0m\u001b[0mdx\u001b[0m\u001b[0;34m,\u001b[0m\u001b[0mdt\u001b[0m\u001b[0;34m,\u001b[0m\u001b[0mepsilon\u001b[0m\u001b[0;34m,\u001b[0m\u001b[0mlam\u001b[0m\u001b[0;34m,\u001b[0m\u001b[0mntimes\u001b[0m\u001b[0;34m,\u001b[0m\u001b[0mpot\u001b[0m\u001b[0;34m,\u001b[0m\u001b[0mtheta\u001b[0m\u001b[0;34m,\u001b[0m\u001b[0mthetac\u001b[0m\u001b[0;34m,\u001b[0m\u001b[0mchoicemob\u001b[0m\u001b[0;34m)\u001b[0m\u001b[0;34m,\u001b[0m \u001b[0mphi\u001b[0m\u001b[0;34m[\u001b[0m\u001b[0;34m:\u001b[0m\u001b[0;34m,\u001b[0m\u001b[0mti\u001b[0m\u001b[0;34m]\u001b[0m\u001b[0;34m,\u001b[0m \u001b[0mfull_output\u001b[0m \u001b[0;34m=\u001b[0m \u001b[0;32mTrue\u001b[0m\u001b[0;34m)\u001b[0m\u001b[0;34m\u001b[0m\u001b[0;34m\u001b[0m\u001b[0m\n\u001b[0m\u001b[1;32m     26\u001b[0m \u001b[0;34m\u001b[0m\u001b[0m\n\u001b[1;32m     27\u001b[0m \u001b[0;34m\u001b[0m\u001b[0m\n",
      "\u001b[0;31mKeyboardInterrupt\u001b[0m: "
     ]
    }
   ],
   "source": [
    "restored_example = fv.temporal_loop(example, damage)"
   ]
  },
  {
   "cell_type": "code",
   "execution_count": 6,
   "metadata": {},
   "outputs": [
    {
     "data": {
      "text/plain": [
       "(235,)"
      ]
     },
     "execution_count": 6,
     "metadata": {},
     "output_type": "execute_result"
    }
   ],
   "source": [
    "damage.shape"
   ]
  },
  {
   "cell_type": "code",
   "execution_count": 5,
   "metadata": {},
   "outputs": [
    {
     "data": {
      "text/plain": [
       "array([293, 529,  26, 778, 377,  64, 215, 379, 143, 401,  71, 147, 776,\n",
       "       781, 326, 162, 482, 682, 691,   4,  62, 522, 364, 509, 356,  37,\n",
       "       107, 160, 685, 165, 422,  16, 624, 273, 602, 376, 152, 252, 476,\n",
       "        42, 523, 748, 196, 449, 479, 394, 400,  21, 556, 157, 621, 716,\n",
       "       746,  97, 235, 140, 483, 419, 752, 331, 433, 658, 427, 646,  32,\n",
       "       238, 744,  99, 410, 623, 294, 225, 247, 174, 341, 647, 169, 703,\n",
       "       161, 701, 779, 743, 361, 501, 428, 766, 103, 674, 104, 717, 656,\n",
       "       738, 334, 581, 599, 281, 635, 277, 625, 697, 421, 258, 154, 543,\n",
       "       387, 710, 438, 524,  88, 303, 148, 129, 138, 511, 220, 279, 606,\n",
       "       135, 254, 310, 506, 473, 153, 584, 371, 735,  18, 260, 576, 366,\n",
       "       666, 408, 236, 588, 353,  95, 660,  41, 471,  98, 704,  34, 618,\n",
       "       286,   5, 183, 487, 545,  12, 686, 424, 728, 532, 502, 350, 205,\n",
       "       432, 573, 319,  58, 290, 558,   3, 760, 245, 132, 441, 758, 622,\n",
       "       519, 467, 411,  89, 335, 329, 736, 496, 325, 490, 681, 436, 384,\n",
       "       315, 211, 256, 561,  45, 253, 494,  36, 197, 291, 203, 282, 439,\n",
       "       337, 392, 777, 305, 648, 464, 440, 627,  49, 478, 722, 113,   0,\n",
       "       592, 122, 712, 226, 611, 713, 246, 114, 521, 385, 145, 616, 452,\n",
       "       718, 525, 662, 655, 219,  40, 773, 423, 354, 336, 233, 348, 600,\n",
       "       768])"
      ]
     },
     "execution_count": 5,
     "metadata": {},
     "output_type": "execute_result"
    }
   ],
   "source": [
    "damage"
   ]
  },
  {
   "cell_type": "code",
   "execution_count": null,
   "metadata": {},
   "outputs": [],
   "source": []
  }
 ],
 "metadata": {
  "kernelspec": {
   "display_name": "Python 3",
   "language": "python",
   "name": "python3"
  },
  "language_info": {
   "codemirror_mode": {
    "name": "ipython",
    "version": 3
   },
   "file_extension": ".py",
   "mimetype": "text/x-python",
   "name": "python",
   "nbconvert_exporter": "python",
   "pygments_lexer": "ipython3",
   "version": "3.7.3"
  }
 },
 "nbformat": 4,
 "nbformat_minor": 2
}
